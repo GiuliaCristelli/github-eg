{
 "cells": [
  {
   "cell_type": "markdown",
   "metadata": {},
   "source": [
    "# The Battle of Neighborhoods - Part 2"
   ]
  },
  {
   "cell_type": "markdown",
   "metadata": {},
   "source": [
    "Data description"
   ]
  },
  {
   "cell_type": "markdown",
   "metadata": {},
   "source": [
    "The focus of this analysis is New York City. The data embedded in the analysis are listed below:"
   ]
  },
  {
   "cell_type": "markdown",
   "metadata": {},
   "source": [
    "*1.Neighborhood*: in total, 5 boroughs and 306 neighborhoods. For the segmentation's sake we will need:\n",
    "\n",
    "- for each of the 5 neighborhoods, the list of neighborhoods contained in each borough;\n",
    "\n",
    "- for each neighborhood, its latitude and longitude. \n",
    "\n",
    "Data source: https://geo.nyu.edu/catalog/nyu_2451_34572\n",
    "\n",
    "----------------------------------------------------------------------\n",
    "\n",
    "*2.DOHMH Farmers Markets and food boxes dataset*: this is a list of farmers markets across the five boroughs. Farmers market vendors, products, and EBT acceptance varies by venue.\n",
    "\n",
    "Data source: https://data.cityofnewyork.us/dataset/DOHMH-Farmers-Markets-and-Food-Boxes/8vwk-6iz2\n",
    "\n",
    "----------------------------------------------------------------------\n",
    "\n",
    "*3. Wikipedia data on New York City population, demographics and cuisine.*\n",
    "\n",
    "Data source: \n",
    "\n",
    "https://en.wikipedia.org/wiki/New_York_City\n",
    "\n",
    "https://en.wikipedia.org/wiki/Economy_of_New_York_City\n",
    "\n",
    "https://en.wikipedia.org/wiki/Portal:New_York_City\n",
    "\n",
    "https://en.wikipedia.org/wiki/Cuisine_of_New_York_City\n",
    "\n",
    "https://en.wikipedia.org/wiki/List_of_Michelin_starred_restaurants_in_New_York_City\n",
    "\n",
    "----------------------------------------------------------------------\n",
    "\n",
    "*4.New York City geographical coordinates data* (i.e., input for the Foursquare API), to provision venues information for each neighborhood. Foursquare API will be used to explore the different neighborhoods in New York City."
   ]
  },
  {
   "cell_type": "code",
   "execution_count": null,
   "metadata": {},
   "outputs": [],
   "source": []
  }
 ],
 "metadata": {
  "kernelspec": {
   "display_name": "Python 3.6",
   "language": "python",
   "name": "python3"
  },
  "language_info": {
   "codemirror_mode": {
    "name": "ipython",
    "version": 3
   },
   "file_extension": ".py",
   "mimetype": "text/x-python",
   "name": "python",
   "nbconvert_exporter": "python",
   "pygments_lexer": "ipython3",
   "version": "3.6.9"
  }
 },
 "nbformat": 4,
 "nbformat_minor": 1
}
