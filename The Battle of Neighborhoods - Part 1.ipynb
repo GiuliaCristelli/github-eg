{
 "cells": [
  {
   "cell_type": "markdown",
   "metadata": {},
   "source": [
    "# The Battle of the Neighborhoods - Part 1"
   ]
  },
  {
   "cell_type": "markdown",
   "metadata": {},
   "source": [
    "1. Discussion of the background."
   ]
  },
  {
   "cell_type": "markdown",
   "metadata": {},
   "source": [
    "New York City represents one of the most attractive cities of the United States of America and of the world. Indeed, it offers an extremely wide range of business opportunities: from finance and real estate to digital marketing, tourism, art and fashion, this city attracts talents from all over the world. However, the competition among all these ambitious talents is very high and developing a successful business can be very hard and risky.\n",
    "As a consequence, any plan aimed at starting a new business in the city should be analysed by taking into consideration not only the idea behind it, but also the competitive landscape.\n",
    "This analysis aims at clarifying the business environment that New York City represents, with the final goal of providing applicable insights for new entrepreneurs, to successfully confront themselves with this market and start a profitable business. \n"
   ]
  },
  {
   "cell_type": "markdown",
   "metadata": {},
   "source": [
    "2. Description of the problem, the data and how it will be used to solve the problem."
   ]
  },
  {
   "cell_type": "markdown",
   "metadata": {},
   "source": [
    "The new business in analysis is represented by a restaurant called “La collina”, which aims at becoming a point of reference for its unique offer in the heterogeneous mix of cuisines located in New York City. The culture of food and the industry behind it mainly involves:\n",
    "- North American cuisine\n",
    "- Asian cuisine (Japanese, Chinese and Tibetan)\n",
    "- Middle Eastern cuisine\n",
    "- European cuisine (Italian, French and Spanish)\n",
    "- Ecommerce-based American food providers\n",
    "\n",
    "This wide mix of choices makes it very hard for a new restaurant to emerge and stay profitable. One of the first choices to be made, that will also have a big impact on the success of the business, is its location. \n",
    "The choice of the location depends on several variables:\n",
    "- location of the competitors and their offers;\n",
    "- location of the suppliers of the ingredients;\n",
    "- neighbourhood qualitative characteristics: is it a residential area? Are there any schools, gyms, parks?, etc...\n",
    "\n",
    "The objective of this analysis will be to help “La collina” choosing the best New York City’s spot for the business to start and remain profitable in the long run. Our team of data scientists will analyze data relative to the previously cited characteristics of the neighbourhoods, to identify the optimal geographical location for this new business. Therefore, the resulting insights will be also useful for any entrepreneur interested in starting a new business in the city.\n",
    "\n",
    "The project will be evaluated as successful if the final recommendation will consist in a location characterized by close suppliers of ingredients and lack of similar restaurants in its neighborhood."
   ]
  }
 ],
 "metadata": {
  "kernelspec": {
   "display_name": "Python 3.6",
   "language": "python",
   "name": "python3"
  },
  "language_info": {
   "codemirror_mode": {
    "name": "ipython",
    "version": 3
   },
   "file_extension": ".py",
   "mimetype": "text/x-python",
   "name": "python",
   "nbconvert_exporter": "python",
   "pygments_lexer": "ipython3",
   "version": "3.6.9"
  }
 },
 "nbformat": 4,
 "nbformat_minor": 1
}
